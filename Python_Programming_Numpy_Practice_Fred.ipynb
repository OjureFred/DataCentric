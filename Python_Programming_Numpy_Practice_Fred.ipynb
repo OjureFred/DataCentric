{
  "nbformat": 4,
  "nbformat_minor": 0,
  "metadata": {
    "colab": {
      "name": "Python_Programming_Numpy_Practice.ipynb",
      "provenance": [],
      "collapsed_sections": [
        "-7J_lE4-YPLq",
        "cnaEkfAtY5n1",
        "ICXG_crZZAw8"
      ],
      "toc_visible": true,
      "include_colab_link": true
    },
    "kernelspec": {
      "name": "python3",
      "display_name": "Python 3"
    }
  },
  "cells": [
    {
      "cell_type": "markdown",
      "metadata": {
        "id": "view-in-github",
        "colab_type": "text"
      },
      "source": [
        "<a href=\"https://colab.research.google.com/github/OjureFred/DataCentric/blob/main/Python_Programming_Numpy_Practice_Fred.ipynb\" target=\"_parent\"><img src=\"https://colab.research.google.com/assets/colab-badge.svg\" alt=\"Open In Colab\"/></a>"
      ]
    },
    {
      "cell_type": "markdown",
      "metadata": {
        "id": "lLLVoxQQDrNO"
      },
      "source": [
        "<font color=\"green\">*To start working on this notebook, or any other notebook that we will use in the Moringa Data Science Course, we will need to save our own copy of it. We can do this by clicking File > Save a Copy in Drive. We will then be able to make edits to our own copy of this notebook.*</font>"
      ]
    },
    {
      "cell_type": "markdown",
      "metadata": {
        "id": "-7J_lE4-YPLq"
      },
      "source": [
        "### <font color=\"green\">1.1 Challenge: Importing our Library</font>"
      ]
    },
    {
      "cell_type": "code",
      "metadata": {
        "id": "9l8Juvt-bRgz"
      },
      "source": [
        "# Let's import numpy\n",
        "#\n",
        "import numpy as np"
      ],
      "execution_count": 1,
      "outputs": []
    },
    {
      "cell_type": "markdown",
      "metadata": {
        "id": "cnaEkfAtY5n1"
      },
      "source": [
        "### <font color=\"green\">1.2 Challenge: Creating an Array</font>"
      ]
    },
    {
      "cell_type": "code",
      "metadata": {
        "id": "43Q-yy08bG0B",
        "colab": {
          "base_uri": "https://localhost:8080/"
        },
        "outputId": "37da0dc5-efb2-42fe-bd9e-1d299ad77927"
      },
      "source": [
        "# Challenge 1 \n",
        "# Create an array of five zeros\n",
        "#\n",
        "import numpy as np\n",
        "arr1 = np.array([0, 0, 0, 0, 0])\n",
        "print(arr1)\n",
        "arr2 = np.zeros(5)\n",
        "print(arr2)"
      ],
      "execution_count": 3,
      "outputs": [
        {
          "output_type": "stream",
          "text": [
            "[0 0 0 0 0]\n",
            "[0. 0. 0. 0. 0.]\n"
          ],
          "name": "stdout"
        }
      ]
    },
    {
      "cell_type": "code",
      "metadata": {
        "id": "Y-ZMS064b8Ck",
        "colab": {
          "base_uri": "https://localhost:8080/"
        },
        "outputId": "5e306951-fb35-4ca2-925f-c05eaabca3bf"
      },
      "source": [
        "# Challenge 2\n",
        "# Create an array of six ones \n",
        "#\n",
        "import numpy as np\n",
        "arr1 = np.array([1, 1, 1, 1, 1, 1])\n",
        "print(arr1)\n",
        "arr2 = np.ones(6)\n",
        "print(arr2)"
      ],
      "execution_count": 5,
      "outputs": [
        {
          "output_type": "stream",
          "text": [
            "[1 1 1 1 1 1]\n",
            "[1. 1. 1. 1. 1. 1.]\n"
          ],
          "name": "stdout"
        }
      ]
    },
    {
      "cell_type": "code",
      "metadata": {
        "id": "FOaIYiBGb74H",
        "colab": {
          "base_uri": "https://localhost:8080/"
        },
        "outputId": "dabdbea6-48d2-4657-c76c-c69009233243"
      },
      "source": [
        "# Challenge 3\n",
        "# Create an array of the integers from 10 to 50\n",
        "#\n",
        "import numpy as np\n",
        "arr1 = np.arange(10, 50, 5)\n",
        "print(arr1)\n",
        "arr2 = np.linspace(10,50,5)\n",
        "print(arr2)"
      ],
      "execution_count": 8,
      "outputs": [
        {
          "output_type": "stream",
          "text": [
            "[10 15 20 25 30 35 40 45]\n",
            "[10. 20. 30. 40. 50.]\n"
          ],
          "name": "stdout"
        }
      ]
    },
    {
      "cell_type": "code",
      "metadata": {
        "id": "FmmY6xLSb7t8",
        "colab": {
          "base_uri": "https://localhost:8080/"
        },
        "outputId": "d03f6aab-54a2-4c4c-a4c4-1813422ad48e"
      },
      "source": [
        "# Challenge 4\n",
        "# Create an array of odd integers from 20 to 60\n",
        "#\n",
        "import numpy as np\n",
        "arr1 = np.arange(19,61, 2)\n",
        "print(arr1)"
      ],
      "execution_count": 14,
      "outputs": [
        {
          "output_type": "stream",
          "text": [
            "[19 21 23 25 27 29 31 33 35 37 39 41 43 45 47 49 51 53 55 57 59]\n"
          ],
          "name": "stdout"
        }
      ]
    },
    {
      "cell_type": "code",
      "metadata": {
        "id": "ht0VpxEXb7kG"
      },
      "source": [
        "# Challenge 5\n",
        "# Create an array of 25 random numbers \n",
        "#\n",
        "OUR CODE GOES HERE"
      ],
      "execution_count": null,
      "outputs": []
    },
    {
      "cell_type": "markdown",
      "metadata": {
        "id": "ICXG_crZZAw8"
      },
      "source": [
        "### <font color=\"green\">1.3 Working with Matrices</font>"
      ]
    },
    {
      "cell_type": "code",
      "metadata": {
        "id": "CnM3qTE1b7YF"
      },
      "source": [
        "# Challenge 6\n",
        "# Write code to replicate the expected matrix output \n",
        "# of the cell shown below\n",
        "# \n",
        "OUR CODE GOES HERE"
      ],
      "execution_count": null,
      "outputs": []
    },
    {
      "cell_type": "code",
      "metadata": {
        "id": "K5-uPXdEfgjU",
        "colab": {
          "base_uri": "https://localhost:8080/",
          "height": 102
        },
        "outputId": "3d6b0e1d-8e5b-4913-c391-443af2ed2688"
      },
      "source": [
        "# Challenge 6: Expected Output\n",
        "# [Do not run this cell]\n",
        "# The output of this cell will disappear when run"
      ],
      "execution_count": null,
      "outputs": [
        {
          "output_type": "stream",
          "text": [
            "[[ 1  2  3  4]\n",
            " [ 5  6  7  8]\n",
            " [ 9 10 11 12]\n",
            " [13 14 15 16]\n",
            " [17 18 19 20]]\n"
          ],
          "name": "stdout"
        }
      ]
    },
    {
      "cell_type": "code",
      "metadata": {
        "id": "EH63OkyEb7NU"
      },
      "source": [
        "# Challenge 7\n",
        "# Let's write code to replicate the expected matrix output \n",
        "# of the cell shown below\n",
        "# \n",
        "OUR CODE GOES HERE"
      ],
      "execution_count": null,
      "outputs": []
    },
    {
      "cell_type": "code",
      "metadata": {
        "id": "avA-papFb7Fl",
        "colab": {
          "base_uri": "https://localhost:8080/",
          "height": 51
        },
        "outputId": "aa252745-ee8f-48db-a0ea-f4dad2484177"
      },
      "source": [
        "# Challenge 7: Expected Output\n",
        "# [Do not run this cell]\n",
        "# Running this cell will cause the output below to disappear"
      ],
      "execution_count": null,
      "outputs": [
        {
          "output_type": "stream",
          "text": [
            "[[14 15 16]\n",
            " [18 19 20]]\n"
          ],
          "name": "stdout"
        }
      ]
    },
    {
      "cell_type": "code",
      "metadata": {
        "id": "nLV_X3kQb68p"
      },
      "source": [
        "# Challenge 8\n",
        "# Let's write code to replicate the expected matrix output \n",
        "# of the cell shown below\n",
        "# \n",
        "OUR CODE GOES HERE"
      ],
      "execution_count": null,
      "outputs": []
    },
    {
      "cell_type": "code",
      "metadata": {
        "id": "DxEU0hOEb6y2",
        "colab": {
          "base_uri": "https://localhost:8080/",
          "height": 34
        },
        "outputId": "e206bcc9-90fe-4ff0-f412-60487537707f"
      },
      "source": [
        "# Challenge 8: Expected Output\n",
        "# [Do not run this cell]\n",
        "# Running this cell will cause the output below to disappear"
      ],
      "execution_count": null,
      "outputs": [
        {
          "output_type": "execute_result",
          "data": {
            "text/plain": [
              "20"
            ]
          },
          "metadata": {
            "tags": []
          },
          "execution_count": 13
        }
      ]
    },
    {
      "cell_type": "code",
      "metadata": {
        "id": "Dau4PAJfb6oO"
      },
      "source": [
        "# Challenge 9\n",
        "# Let's write code to replicate the expected matrix output \n",
        "# of the cell shown below\n",
        "#\n",
        "OUR CODE GOES HERE"
      ],
      "execution_count": null,
      "outputs": []
    },
    {
      "cell_type": "code",
      "metadata": {
        "id": "Pgj7NWePb6fa",
        "colab": {
          "base_uri": "https://localhost:8080/",
          "height": 51
        },
        "outputId": "c4bc7e8c-bf79-4838-9df5-cf0ee199eec6"
      },
      "source": [
        "# Challenge 9: Expected Output\n",
        "# [Do not run this cell]\n",
        "# Running this cell will cause the output below to disappear"
      ],
      "execution_count": null,
      "outputs": [
        {
          "output_type": "stream",
          "text": [
            "[[13 14 15 16]\n",
            " [17 18 19 20]]\n"
          ],
          "name": "stdout"
        }
      ]
    },
    {
      "cell_type": "code",
      "metadata": {
        "id": "jLp-pwUyb6R_"
      },
      "source": [
        "# Challenge 10\n",
        "# Let's find out the mean of first column values \n",
        "# in our matrix in challenge 6 above\n",
        "# \n",
        "OUR CODE GOES HERE"
      ],
      "execution_count": null,
      "outputs": []
    },
    {
      "cell_type": "code",
      "metadata": {
        "id": "i5cFO78Jb6Ee"
      },
      "source": [
        "# Challenge 11\n",
        "# Let's find out the sum of second column values \n",
        "# in our matrix in challenge 6 above\n",
        "#\n",
        "OUR CODE GOES HERE"
      ],
      "execution_count": null,
      "outputs": []
    },
    {
      "cell_type": "code",
      "metadata": {
        "id": "kjS2h2jSj7_v"
      },
      "source": [
        "# Challenge 12\n",
        "# How do we find out the sum of all columns of the challenge 6 output\n",
        "# The resulting array should contain the sums of each column\n",
        "# \n",
        "OUR CODE GOES HERE"
      ],
      "execution_count": null,
      "outputs": []
    }
  ]
}