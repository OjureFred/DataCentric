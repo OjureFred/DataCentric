{
  "nbformat": 4,
  "nbformat_minor": 0,
  "metadata": {
    "colab": {
      "name": "Copy of Copy of Data_Centric_Africa",
      "provenance": [],
      "collapsed_sections": [],
      "include_colab_link": true
    },
    "kernelspec": {
      "name": "python3",
      "display_name": "Python 3"
    },
    "language_info": {
      "name": "python"
    }
  },
  "cells": [
    {
      "cell_type": "markdown",
      "metadata": {
        "id": "view-in-github",
        "colab_type": "text"
      },
      "source": [
        "<a href=\"https://colab.research.google.com/github/OjureFred/DataCentric/blob/main/Data_Centric_Africa_FredOjure.ipynb\" target=\"_parent\"><img src=\"https://colab.research.google.com/assets/colab-badge.svg\" alt=\"Open In Colab\"/></a>"
      ]
    },
    {
      "cell_type": "markdown",
      "metadata": {
        "id": "1fQx88I3YC0L"
      },
      "source": [
        "## Python Programming"
      ]
    },
    {
      "cell_type": "markdown",
      "metadata": {
        "id": "ynyGVzf__XxC"
      },
      "source": [
        "NB: Make a copy of this notebook and work on your own copy"
      ]
    },
    {
      "cell_type": "markdown",
      "metadata": {
        "id": "rNcaffmKYJi0"
      },
      "source": [
        "Your understanding of how python dictionaries work will later form the basis of its applications during data analysis with python. \n",
        "\n",
        "In this part of the project, you will be required to perform the following procedures using the given contact_book dictionary. Initially, this dictionary will have the following contacts as keys and values."
      ]
    },
    {
      "cell_type": "code",
      "metadata": {
        "id": "8OXoLcBoYFaA",
        "colab": {
          "base_uri": "https://localhost:8080/"
        },
        "outputId": "4fa1b75c-98e9-4a80-f20c-c98cc5823a14"
      },
      "source": [
        "contact_book = {'Parul' : 'parul@moringa.org',\n",
        "\n",
        "        'Thomas' : 'thomas@moringa.org',\n",
        "\n",
        "        'Ashley' : 'ashley@moringa.org',\n",
        "\n",
        "        'Kellen' : 'kellen@moringa.org',\n",
        "\n",
        "        'June' : 'june@moringa.org',\n",
        "\n",
        "        'Joseph' : 'joe@moringa.org',\n",
        "\n",
        "        'Lillian' : 'lillian@moringa.org',\n",
        "\n",
        "        'Arnold' : 'arnold@moringa.org' \n",
        "}\n",
        "\n",
        "print(\"Our dictionary at the start\")\n",
        "for key, value in contact_book.items():\n",
        "  print(contact_book[key], \"=\", key)\n",
        "\n",
        "print(\"\\n\")\n",
        "\n",
        "val = input(\"Enter key to delete: \")\n",
        "contact_book.pop(val)\n",
        "\n",
        "print(\"\\n\")\n",
        "for key, value in contact_book.items():\n",
        "  print(contact_book[key], \"=\", key)\n",
        "\n",
        "print(\"\\n\")\n",
        "\n",
        "print(\"We have \", len(contact_book), \" contacts in the dictionary\")\n",
        "print(\"\\n\")\n",
        "\n",
        "contact_book[\"Fred\"] = \"fredojure@gmail.com\"\n",
        "contact_book[\"Alex\"] = \"alexonetwo@hotmail.com\"\n",
        "for key, value in contact_book.items():\n",
        "  print(contact_book[key], \"=\", value)\n",
        "\n",
        "print(\"After addition, we have \", len(contact_book), \" contacts in the dictionary\")\n",
        "\n",
        "print(\"\\n\")\n",
        "\n",
        "\n",
        "print(\"These are all the current contacts in the dictionary\")\n",
        "for key, value in contact_book.items():\n",
        "  print(contact_book[key], \"=\", value)"
      ],
      "execution_count": null,
      "outputs": [
        {
          "output_type": "stream",
          "text": [
            "Our dictionary at the start\n",
            "parul@moringa.org = Parul\n",
            "thomas@moringa.org = Thomas\n",
            "ashley@moringa.org = Ashley\n",
            "kellen@moringa.org = Kellen\n",
            "june@moringa.org = June\n",
            "joe@moringa.org = Joseph\n",
            "lillian@moringa.org = Lillian\n",
            "arnold@moringa.org = Arnold\n",
            "\n",
            "\n",
            "Enter key to delete: Arnold\n",
            "\n",
            "\n",
            "parul@moringa.org = Parul\n",
            "thomas@moringa.org = Thomas\n",
            "ashley@moringa.org = Ashley\n",
            "kellen@moringa.org = Kellen\n",
            "june@moringa.org = June\n",
            "joe@moringa.org = Joseph\n",
            "lillian@moringa.org = Lillian\n",
            "\n",
            "\n",
            "We have  7  contacts in the dictionary\n",
            "\n",
            "\n",
            "parul@moringa.org = parul@moringa.org\n",
            "thomas@moringa.org = thomas@moringa.org\n",
            "ashley@moringa.org = ashley@moringa.org\n",
            "kellen@moringa.org = kellen@moringa.org\n",
            "june@moringa.org = june@moringa.org\n",
            "joe@moringa.org = joe@moringa.org\n",
            "lillian@moringa.org = lillian@moringa.org\n",
            "fredojure@gmail.com = fredojure@gmail.com\n",
            "alexonetwo@hotmail.com = alexonetwo@hotmail.com\n",
            "After addition, we have  9  contacts in the dictionary\n",
            "\n",
            "\n",
            "These are all the current contacts in the dictionary\n",
            "parul@moringa.org = parul@moringa.org\n",
            "thomas@moringa.org = thomas@moringa.org\n",
            "ashley@moringa.org = ashley@moringa.org\n",
            "kellen@moringa.org = kellen@moringa.org\n",
            "june@moringa.org = june@moringa.org\n",
            "joe@moringa.org = joe@moringa.org\n",
            "lillian@moringa.org = lillian@moringa.org\n",
            "fredojure@gmail.com = fredojure@gmail.com\n",
            "alexonetwo@hotmail.com = alexonetwo@hotmail.com\n"
          ],
          "name": "stdout"
        }
      ]
    },
    {
      "cell_type": "markdown",
      "metadata": {
        "id": "lG-ghMVHYSqt"
      },
      "source": [
        "You will write python code that performs the following procedures\n",
        "\n",
        "1. Delete a contact from the dictionary when the user specifies the its key \n",
        "2. Print out the first 2 contacts. \n",
        "3. Display the total no. of contacts left in the dictionary.\n",
        "4. Add 2 new contacts in the dictionary. \n",
        "5. Print out all the contacts."
      ]
    },
    {
      "cell_type": "markdown",
      "metadata": {
        "id": "A1FTpYHk-xG-"
      },
      "source": [
        "## Task 2"
      ]
    },
    {
      "cell_type": "code",
      "metadata": {
        "id": "Ug8v0xuL-v5p",
        "colab": {
          "base_uri": "https://localhost:8080/"
        },
        "outputId": "2c5fe768-d9c3-49f0-8637-bdcf0b8a610d"
      },
      "source": [
        "# Sarova Nairobi determines the price of admission based on the age of the guest. \n",
        "# Guests that are 2 years of age or less are admitted without charge. \n",
        "# Children between 3 and 12 years of age are charged Ksh. 15,000 a night. \n",
        "# Seniors aged 65 years and over are charged Ksh. 18,000 a night.\n",
        "# Admission for all other guests is Ksh. 25,000 a night.\n",
        "# Create a program that begins by reading the ages of all of the guests \n",
        "# in a group from the user, with ones age entered on each line. \n",
        "# The user will enter a blank line to indicate that there are no more guests in the group. \n",
        "# Then your program should display the admission cost for the group with an appropriate message. \n",
        "# The cost should be displayed using two decimal places. \n",
        "# NB: You should use a for loop and a break statement in your program.\n",
        "\n",
        "sarova_rates = {\n",
        "    2 : 0,\n",
        "    12 : 15000,\n",
        "    15 : 25000,\n",
        "    65 : 18000\n",
        "\n",
        "}\n",
        "\n",
        "age = int(input(\"Enter guest age: \"))\n",
        "#process age\n",
        "if age in range(0, 2):\n",
        "  age = 2\n",
        "elif age in range(3, 13):\n",
        "  age = 12\n",
        "elif age in range(13, 65):\n",
        "  age = 15\n",
        "else:\n",
        "   age = 65\n",
        "\n",
        "print(\"Guest will pay\", (sarova_rates[age]))\n",
        "\n",
        "\n"
      ],
      "execution_count": null,
      "outputs": [
        {
          "output_type": "stream",
          "text": [
            "Enter guest age: 7\n",
            "Guest will pay 15000\n"
          ],
          "name": "stdout"
        }
      ]
    },
    {
      "cell_type": "markdown",
      "metadata": {
        "id": "ikG-ysTL_JVu"
      },
      "source": [
        "## Task 3"
      ]
    },
    {
      "cell_type": "code",
      "metadata": {
        "id": "jdG6vpj3_LQY"
      },
      "source": [
        "# Naivas Supermarket sells two products: bread and milk. \n",
        "# A loaf of bread weighs 400 grams. Each packet of milk is 0.5 litre. \n",
        "# Write a program that reads the number of bread \n",
        "# and the number of packets of milk in an order from the user. \n",
        "# Then your program should compute and display the total quantity of the order.\n",
        "# You should store the order in the dictionary and \n",
        "# prompt the user for another input.\n",
        "# Upon creating the Naivas supermarket dictionary program \n",
        "\n",
        "\n",
        "# We will now extend the functionality of your program to be able to also update\n",
        "# the quantity of either the bread or packet of milk.\n",
        "# Write another program the will prompt the user to indicate whether they want\n",
        "# to update the quantity of the product or compute the total quantity of the total order.\n",
        "# Using if statements, your program should execute either to the code you had earlier\n",
        "# on written or to the new code for updating that you will now write"
      ],
      "execution_count": null,
      "outputs": []
    },
    {
      "cell_type": "markdown",
      "metadata": {
        "id": "WY5M8KzTYeDP"
      },
      "source": [
        "### Deliverable \n",
        "\n",
        "- You will create an Colaboratory Notebook that will contain your responses to the above questions. \n",
        "Use the following naming convention for the above Google Colaboratory Notebook;\n",
        "\"Data_Centric_Africa_Project__FirstName_LastName_Python_Notebook\""
      ]
    },
    {
      "cell_type": "markdown",
      "metadata": {
        "id": "l8s2nIljp8Nm"
      },
      "source": [
        "Share with me your colabs via robinsonobura792@gmail.com"
      ]
    },
    {
      "cell_type": "code",
      "metadata": {
        "id": "T4dr7uOHYc2Y"
      },
      "source": [
        ""
      ],
      "execution_count": null,
      "outputs": []
    }
  ]
}